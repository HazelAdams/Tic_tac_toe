{
 "cells": [
  {
   "cell_type": "markdown",
   "metadata": {},
   "source": [
    "# Tic-tac-toe plan"
   ]
  },
  {
   "cell_type": "markdown",
   "metadata": {},
   "source": [
    "## Rules\n",
    "\n",
    "Tic-tac-toe (also known as Naughts and Crosses) is a 2 player game involving a 3x3 grid and two different symbols being placed on that grid. The aim of the game is to get your symbols to line up, three in a row. One player puts their symbol on the grid and then the next player does the same. A tie occurs when no one gets 3 in a row and the match ends when 3 symbols in a row are found. The victory is often marked by a line going through the 3 symbols. You can win diagonally, horizontally and vertically."
   ]
  },
  {
   "cell_type": "markdown",
   "metadata": {},
   "source": [
    "## Plan\n",
    "To visually present the game, the user interface i will use will be a 2d array\n",
    "The constants i will use for this project are:\n",
    "- topLeft\n",
    "- topCentre\n",
    "- topRight\n",
    "- left\n",
    "- centre\n",
    "- right\n",
    "- bottomLeft\n",
    "- bottomCentre\n",
    "- bottomRight\n",
    "\n",
    "The variables i will use for this project are:\n",
    "- x\n",
    "- o"
   ]
  },
  {
   "cell_type": "code",
   "execution_count": 9,
   "metadata": {},
   "outputs": [
    {
     "name": "stdout",
     "output_type": "stream",
     "text": [
      " test test test\n",
      " test test test\n",
      " test test test\n"
     ]
    }
   ],
   "source": [
    "def mlist(size):\n",
    "    list = []\n",
    "    for i in range(size):\n",
    "        list = list + [' test']\n",
    "    return list\n",
    "def matrix(rows,cols):\n",
    "    for i in mlist(rows):\n",
    "        print(i*cols)\n",
    "matrix(3, 3)"
   ]
  },
  {
   "cell_type": "code",
   "execution_count": null,
   "metadata": {},
   "outputs": [
    {
     "name": "stdout",
     "output_type": "stream",
     "text": [
      "Tic-Tac-Toe Game Designed By Sourabh Somani\n",
      "Player 1 [X] --- Player 2 [O]\n",
      "\n",
      "\n",
      "\n",
      "Please Wait...\n",
      "   |   |   \n",
      "___|___|___\n",
      "   |   |   \n",
      "___|___|___\n",
      "   |   |   \n",
      "   |   |   \n",
      "Player 1's chance\n"
     ]
    }
   ],
   "source": [
    "import os    \n",
    "import time    \n",
    "    \n",
    "board = [' ',' ',' ',' ',' ',' ',' ',' ',' ',' ']    \n",
    "player = 1    \n",
    "   \n",
    "########win Flags##########    \n",
    "Win = 1    \n",
    "Draw = -1    \n",
    "Running = 0    \n",
    "Stop = 1    \n",
    "###########################    \n",
    "Game = Running    \n",
    "Mark = 'X'    \n",
    "   \n",
    "#This Function Draws Game Board    \n",
    "def DrawBoard():    \n",
    "    print(\" %c | %c | %c \" % (board[topLeft],board[topCentre],board[topRight]))    \n",
    "    print(\"___|___|___\")    \n",
    "    print(\" %c | %c | %c \" % (board[left],board[centre],board[right]))    \n",
    "    print(\"___|___|___\")    \n",
    "    print(\" %c | %c | %c \" % (board[],board[8],board[9]))    \n",
    "    print(\"   |   |   \")    \n",
    "   \n",
    "# This Function Checks position is empty or not    \n",
    "def CheckPosition(x):    \n",
    "    if(board[x] == ' '):    \n",
    "        return True    \n",
    "    else:    \n",
    "        return False    \n",
    "   \n",
    "#This Function Checks player has won or not    \n",
    "def CheckWin():    \n",
    "    global Game    \n",
    "    #Horizontal winning condition    \n",
    "    if(board[1] == board[2] and board[2] == board[3] and board[1] != ' '):    \n",
    "        Game = Win    \n",
    "    elif(board[4] == board[5] and board[5] == board[6] and board[4] != ' '):    \n",
    "        Game = Win    \n",
    "    elif(board[7] == board[8] and board[8] == board[9] and board[7] != ' '):    \n",
    "        Game = Win    \n",
    "    #Vertical Winning Condition    \n",
    "    elif(board[1] == board[4] and board[4] == board[7] and board[1] != ' '):    \n",
    "        Game = Win    \n",
    "    elif(board[2] == board[5] and board[5] == board[8] and board[2] != ' '):    \n",
    "        Game = Win    \n",
    "    elif(board[3] == board[6] and board[6] == board[9] and board[3] != ' '):    \n",
    "        Game=Win    \n",
    "    #Diagonal Winning Condition    \n",
    "    elif(board[1] == board[5] and board[5] == board[9] and board[5] != ' '):    \n",
    "        Game = Win    \n",
    "    elif(board[3] == board[5] and board[5] == board[7] and board[5] != ' '):    \n",
    "        Game=Win    \n",
    "    #Match Tie or Draw Condition    \n",
    "    elif(board[1]!=' ' and board[2]!=' ' and board[3]!=' ' and board[4]!=' ' and board[5]!=' ' and board[6]!=' ' and board[7]!=' ' and board[8]!=' ' and board[9]!=' '):    \n",
    "        Game=Draw    \n",
    "    else:            \n",
    "        Game=Running    \n",
    "    \n",
    "print(\"Tic-Tac-Toe Game Designed By Sourabh Somani\")    \n",
    "print(\"Player 1 [X] --- Player 2 [O]\\n\")    \n",
    "print()    \n",
    "print()    \n",
    "print(\"Please Wait...\")    \n",
    "time.sleep(3)    \n",
    "while(Game == Running):    \n",
    "    os.system('cls')    \n",
    "    DrawBoard()    \n",
    "    if(player % 2 != 0):    \n",
    "        print(\"Player 1's chance\")    \n",
    "        Mark = 'X'    \n",
    "    else:    \n",
    "        print(\"Player 2's chance\")    \n",
    "        Mark = 'O'    \n",
    "    choice = int(input(\"Enter the position between [1-9] where you want to mark : \"))    \n",
    "    if(CheckPosition(choice)):    \n",
    "        board[choice] = Mark    \n",
    "        player+=1    \n",
    "        CheckWin()    \n",
    "    \n",
    "os.system('cls')    \n",
    "DrawBoard()    \n",
    "if(Game==Draw):    \n",
    "    print(\"Game Draw\")    \n",
    "elif(Game==Win):    \n",
    "    player-=1    \n",
    "    if(player%2!=0):    \n",
    "        print(\"Player 1 Won\")    \n",
    "    else:    \n",
    "        print(\"Player 2 Won\")    "
   ]
  }
 ],
 "metadata": {
  "kernelspec": {
   "display_name": "Python 3",
   "language": "python",
   "name": "python3"
  },
  "language_info": {
   "codemirror_mode": {
    "name": "ipython",
    "version": 3
   },
   "file_extension": ".py",
   "mimetype": "text/x-python",
   "name": "python",
   "nbconvert_exporter": "python",
   "pygments_lexer": "ipython3",
   "version": "3.5.2"
  }
 },
 "nbformat": 4,
 "nbformat_minor": 2
}
