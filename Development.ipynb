{
 "cells": [
  {
   "cell_type": "markdown",
   "metadata": {},
   "source": [
    "# Tic-tac-toe Development"
   ]
  },
  {
   "cell_type": "code",
   "execution_count": 1,
   "metadata": {},
   "outputs": [
    {
     "name": "stdout",
     "output_type": "stream",
     "text": [
      " test test test\n",
      " test test test\n",
      " test test test\n"
     ]
    }
   ],
   "source": [
    "#list?\n",
    "def mlist(size):\n",
    "    list = []\n",
    "    for i in range(size):\n",
    "        list = list + [' test']\n",
    "    return list\n",
    "def matrix(rows,cols):\n",
    "    for i in mlist(rows):\n",
    "        print(i*cols)\n",
    "#arranges the parameters in rows and columns of 3\n",
    "matrix(3, 3)"
   ]
  },
  {
   "cell_type": "code",
   "execution_count": null,
   "metadata": {},
   "outputs": [
    {
     "name": "stdout",
     "output_type": "stream",
     "text": [
      "Player 1 [X]         Player 2 [O]\n",
      "\n",
      "Game start\n",
      "   |   |   \n",
      "___|___|___\n",
      "   |   |   \n",
      "___|___|___\n",
      "   |   |   \n",
      "   |   |   \n",
      "Player 1\n"
     ]
    }
   ],
   "source": [
    "# This is inspiration for how i will design the game\n",
    "# i will adpapt it from this and use this as a reference\n",
    "\n",
    "import os    \n",
    "import time    \n",
    "    \n",
    "board = [' ',' ',' ',' ',' ',' ',' ',' ',' ',' ']    \n",
    "player = 1    \n",
    "   \n",
    "########win Flags##########    \n",
    "Win = 1    \n",
    "Draw = -1    \n",
    "Running = 0    \n",
    "Stop = 1    \n",
    "###########################    \n",
    "Game = Running    \n",
    "Mark = 'X'    \n",
    "   \n",
    "#This Function Draws Game Board    \n",
    "def drawBoard():    \n",
    "    print(\" %c | %c | %c \" % (board[1],board[2],board[3]))    \n",
    "    print(\"___|___|___\")    \n",
    "    print(\" %c | %c | %c \" % (board[4],board[5],board[6]))    \n",
    "    print(\"___|___|___\")    \n",
    "    print(\" %c | %c | %c \" % (board[7],board[8],board[9]))    \n",
    "    print(\"   |   |   \")    \n",
    "   \n",
    "#This Function Checks position is empty or not    \n",
    "def checkPosition(x):    \n",
    "    if(board[x] == ' '):    \n",
    "        return True    \n",
    "    else:    \n",
    "        return False\n",
    "   \n",
    "#This Function Checks player has won or not    \n",
    "def checkWin():    \n",
    "    global Game    \n",
    "    #Horizontal winning condition    \n",
    "    if(board[1] == board[2] and board[2] == board[3] and board[1] != ' '):    \n",
    "        Game = Win    \n",
    "    elif(board[4] == board[5] and board[5] == board[6] and board[4] != ' '):    \n",
    "        Game = Win    \n",
    "    elif(board[7] == board[8] and board[8] == board[9] and board[7] != ' '):    \n",
    "        Game = Win    \n",
    "    #Vertical Winning Condition    \n",
    "    elif(board[1] == board[4] and board[4] == board[7] and board[1] != ' '):    \n",
    "        Game = Win    \n",
    "    elif(board[2] == board[5] and board[5] == board[8] and board[2] != ' '):    \n",
    "        Game = Win    \n",
    "    elif(board[3] == board[6] and board[6] == board[9] and board[3] != ' '):    \n",
    "        Game=Win    \n",
    "    #Diagonal Winning Condition    \n",
    "    elif(board[1] == board[5] and board[5] == board[9] and board[5] != ' '):    \n",
    "        Game = Win    \n",
    "    elif(board[3] == board[5] and board[5] == board[7] and board[5] != ' '):    \n",
    "        Game=Win    \n",
    "    #Match Tie or Draw Condition    \n",
    "    elif(board[1]!=' ' and board[2]!=' ' and board[3]!=' ' and board[4]!=' ' and board[5]!=' ' and board[6]!=' ' and board[7]!=' ' and board[8]!=' ' and board[9]!=' '):    \n",
    "        Game=Tie!    \n",
    "    else:            \n",
    "        Game=Running    \n",
    "    \n",
    "print(\"Player 1 [X]         Player 2 [O]\\n\")   \n",
    "print(\"Game start\")    \n",
    "    \n",
    "while(Game == Running):    \n",
    "    os.system('cls')    \n",
    "    drawBoard()    \n",
    "    if(player % 2 != 0):    \n",
    "        print(\"Player 1\")    \n",
    "        Mark = 'X'    \n",
    "    else:    \n",
    "        print(\"Player 2\")    \n",
    "        Mark = 'O'    \n",
    "    choice = int(input(\"Enter the position between [1-9] where you want to mark : \"))    \n",
    "    if(checkPosition(choice)):    \n",
    "        board[choice] = Mark    \n",
    "        player+=1    \n",
    "        checkWin()    \n",
    "    \n",
    "os.system('cls')    \n",
    "drawBoard()    \n",
    "if(Game==Tie!):    \n",
    "    print(\"Its a tie!\")    \n",
    "elif(Game==Win):    \n",
    "    player-=1    \n",
    "    if(player%2!=0):    \n",
    "        print(\"Player 1 Wins\")    \n",
    "    else:\n",
    "        print(\"Player 2 Wins\")  "
   ]
  }
 ],
 "metadata": {
  "kernelspec": {
   "display_name": "Python 3",
   "language": "python",
   "name": "python3"
  },
  "language_info": {
   "codemirror_mode": {
    "name": "ipython",
    "version": 3
   },
   "file_extension": ".py",
   "mimetype": "text/x-python",
   "name": "python",
   "nbconvert_exporter": "python",
   "pygments_lexer": "ipython3",
   "version": "3.5.2"
  }
 },
 "nbformat": 4,
 "nbformat_minor": 2
}
